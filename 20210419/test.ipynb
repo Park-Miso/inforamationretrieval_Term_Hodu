### Google Colab과 Google Drive 연동
### Google Drive 패키지와 os 모듈 불러오기
from google.colab import drive
import os

### 본인 구글 드라이브의 최초 경로를 설정하기

# 대부분의 구글 드라이브 최초 경로는 아래와 같습니다. 
# 예외 발생 시 본인의 구글 드라이브에 접속하여 content 폴더나 gdrive 폴더가 어떤 위치에 있으며, 
# 자신이 연결하려는 폴더까지의 경로가 어떻게 되는지 확인해야 합니다.  
drive.mount('/content/gdrive/')

### 자신의 현재 경로를 파악하기

os.getcwd() ## 아마도 /content로 나올 것.

### 작업 경로로 이동
os.chdir('/content/gdrive/My Drive/Colab Notebooks/information_retrieval/')
os.getcwd()

### 작업 경로 내 파일 검색
!ls /content/gdrive/'My Drive'/'Colab Notebooks'/information_retrieval/
